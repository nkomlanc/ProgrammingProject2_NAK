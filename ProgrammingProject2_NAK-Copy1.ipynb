{
 "cells": [
  {
   "cell_type": "markdown",
   "metadata": {},
   "source": [
    "### Nick Komlanc\n",
    "### Project 2\n",
    "### Version 1.0\n",
    "### Fall 2020"
   ]
  },
  {
   "cell_type": "code",
   "execution_count": 33,
   "metadata": {},
   "outputs": [],
   "source": [
    "presidents=[['FirstName','LastName','StartTerm','EndTerm','BirthState','Born','Died','InaugurationAge','DeathAge'],\n",
    "['George','Washington',1789,1797,'VA','2/22/1732','12/14/1799',57,67],\n",
    "['John','Adams1',1797,1801,'MA','10/30/1735','7/4/1826',61,90],\n",
    "['Thomas','Jefferson',1801,1809,'VA','4/13/1743','7/4/1826',57,83],\n",
    "['James','Madison',1809,1817,'VA','3/16/1751','6/28/1836',57,85],\n",
    "['James','Monroe',1817,1825,'VA','4/28/1758','7/4/1831',58,73],\n",
    "['John','Adams2',1825,1829,'MA','7/11/1767','2/23/1848',57,80],\n",
    "['Andrew','Jackson',1829,1837,'SC','3/15/1767','6/8/1845',61,78],\n",
    "['Martin','Van Buren',1837,1841,'NY','12/5/1782','7/24/1862',54,79],\n",
    "['William','Harrison1',1841,1841,'VA','2/9/1773','4/4/1841',68,68],\n",
    "['John','Tyler',1841,1845,'VA','3/29/1790','1/18/1862',51,71],\n",
    "['James','Polk',1845,1849,'NC','11/2/1795','6/15/1849',49,53],\n",
    "['Zachary','Taylor',1849,1850,'VA','11/24/1784','7/9/1850',64,65],\n",
    "['Millard','Fillmore',1850,1853,'NY','1/7/1800','3/8/1874',50,74],\n",
    "['Franklin','Pierce',1853,1857,'NH','11/23/1804','10/8/1869',48,64],\n",
    "['James','Buchanan',1857,1861,'PA','4/23/1791','6/1/1868',65,77],\n",
    "['Abraham','Lincoln',1861,1865,'KY','2/12/1809','4/15/1865',52,56],\n",
    "['Andrew','Johnson',1865,1869,'NC','12/29/1808','7/31/1875',56,66],\n",
    "['Ulysses','Grant',1869,1877,'OH','4/27/1822','7/23/1885',46,63],\n",
    "['Rutherford','Hayes',1877,1881,'OH','10/4/1822','1/17/1893',54,70],\n",
    "['James','Garfield',1881,1881,'OH','11/19/1831','9/19/1881',49,49],\n",
    "['Chester','Arthur',1881,1885,'VT','10/5/1829','11/18/1886',50,56],\n",
    "['Grover','Cleveland1',1885,1889,'NJ','3/18/1837','6/24/1908',47,71],\n",
    "['Benjamin','Harrison2',1889,1893,'OH','8/20/1833','3/13/1901',55,67],\n",
    "['Grover','Cleveland2',1893,1897,'NJ','3/18/1837','6/24/1908',55,71]]\n"
   ]
  },
  {
   "cell_type": "code",
   "execution_count": 34,
   "metadata": {},
   "outputs": [
    {
     "name": "stdout",
     "output_type": "stream",
     "text": [
      "[['FirstName', 'LastName', 'StartTerm', 'EndTerm', 'BirthState', 'Born', 'Died', 'InaugurationAge', 'DeathAge'], ['George', 'Washington', 1789, 1797, 'VA', '2/22/1732', '12/14/1799', 57, 67], ['John', 'Adams1', 1797, 1801, 'MA', '10/30/1735', '7/4/1826', 61, 90], ['Thomas', 'Jefferson', 1801, 1809, 'VA', '4/13/1743', '7/4/1826', 57, 83], ['James', 'Madison', 1809, 1817, 'VA', '3/16/1751', '6/28/1836', 57, 85], ['James', 'Monroe', 1817, 1825, 'VA', '4/28/1758', '7/4/1831', 58, 73], ['John', 'Adams2', 1825, 1829, 'MA', '7/11/1767', '2/23/1848', 57, 80], ['Andrew', 'Jackson', 1829, 1837, 'SC', '3/15/1767', '6/8/1845', 61, 78], ['Martin', 'Van Buren', 1837, 1841, 'NY', '12/5/1782', '7/24/1862', 54, 79], ['William', 'Harrison1', 1841, 1841, 'VA', '2/9/1773', '4/4/1841', 68, 68], ['John', 'Tyler', 1841, 1845, 'VA', '3/29/1790', '1/18/1862', 51, 71], ['James', 'Polk', 1845, 1849, 'NC', '11/2/1795', '6/15/1849', 49, 53], ['Zachary', 'Taylor', 1849, 1850, 'VA', '11/24/1784', '7/9/1850', 64, 65], ['Millard', 'Fillmore', 1850, 1853, 'NY', '1/7/1800', '3/8/1874', 50, 74], ['Franklin', 'Pierce', 1853, 1857, 'NH', '11/23/1804', '10/8/1869', 48, 64], ['James', 'Buchanan', 1857, 1861, 'PA', '4/23/1791', '6/1/1868', 65, 77], ['Abraham', 'Lincoln', 1861, 1865, 'KY', '2/12/1809', '4/15/1865', 52, 56], ['Andrew', 'Johnson', 1865, 1869, 'NC', '12/29/1808', '7/31/1875', 56, 66], ['Ulysses', 'Grant', 1869, 1877, 'OH', '4/27/1822', '7/23/1885', 46, 63], ['Rutherford', 'Hayes', 1877, 1881, 'OH', '10/4/1822', '1/17/1893', 54, 70], ['James', 'Garfield', 1881, 1881, 'OH', '11/19/1831', '9/19/1881', 49, 49], ['Chester', 'Arthur', 1881, 1885, 'VT', '10/5/1829', '11/18/1886', 50, 56], ['Grover', 'Cleveland1', 1885, 1889, 'NJ', '3/18/1837', '6/24/1908', 47, 71], ['Benjamin', 'Harrison2', 1889, 1893, 'OH', '8/20/1833', '3/13/1901', 55, 67], ['Grover', 'Cleveland2', 1893, 1897, 'NJ', '3/18/1837', '6/24/1908', 55, 71]]\n"
     ]
    }
   ],
   "source": [
    "print(presidents)"
   ]
  },
  {
   "cell_type": "code",
   "execution_count": 156,
   "metadata": {},
   "outputs": [],
   "source": [
    "def  extract_column(data,column):\n",
    "    \"\"\"shows all of the data in a certain column\"\"\"\n",
    "    return [row[column] for row in data]"
   ]
  },
  {
   "cell_type": "code",
   "execution_count": 99,
   "metadata": {},
   "outputs": [],
   "source": [
    "extract_column(presidents,3)\n",
    "n=0\n",
    "presidents = presidents[ : n ] + presidents[n+1 : ]\n"
   ]
  },
  {
   "cell_type": "code",
   "execution_count": 100,
   "metadata": {},
   "outputs": [],
   "source": [
    "FirstName=extract_column(presidents,0)\n",
    "LastName=extract_column(presidents,1)\n",
    "StartTerm=extract_column(presidents,2)\n",
    "EndTerm=extract_column(presidents,3)\n",
    "BirthState=extract_column(presidents,4)\n",
    "Born=extract_column(presidents,5)\n",
    "Died=extract_column(presidents,6)\n",
    "InaugarationAge=extract_column(presidents,7)\n",
    "DeathAge=extract_column(presidents,8)\n"
   ]
  },
  {
   "cell_type": "code",
   "execution_count": 101,
   "metadata": {},
   "outputs": [
    {
     "name": "stdout",
     "output_type": "stream",
     "text": [
      "(('Thomas', 'Jefferson'), ('James', 'Madison'), ('James', 'Monroe'), ('John', 'Adams2'), ('Andrew', 'Jackson'), ('Martin', 'Van Buren'), ('William', 'Harrison1'), ('John', 'Tyler'), ('James', 'Polk'), ('Zachary', 'Taylor'), ('Millard', 'Fillmore'), ('Franklin', 'Pierce'), ('James', 'Buchanan'), ('Abraham', 'Lincoln'), ('Andrew', 'Johnson'), ('Ulysses', 'Grant'), ('Rutherford', 'Hayes'), ('James', 'Garfield'), ('Chester', 'Arthur'), ('Grover', 'Cleveland1'), ('Benjamin', 'Harrison2'), ('Grover', 'Cleveland2'))\n"
     ]
    }
   ],
   "source": [
    "names=zip(FirstName, LastName)\n",
    "print(tuple(names))"
   ]
  },
  {
   "cell_type": "code",
   "execution_count": 102,
   "metadata": {},
   "outputs": [
    {
     "name": "stdout",
     "output_type": "stream",
     "text": [
      "['Adams2', 'Arthur', 'Buchanan', 'Cleveland1', 'Cleveland2', 'Fillmore', 'Garfield', 'Grant', 'Harrison1', 'Harrison2', 'Hayes', 'Jackson', 'Jefferson', 'Johnson', 'Lincoln', 'Madison', 'Monroe', 'Pierce', 'Polk', 'Taylor', 'Tyler', 'Van Buren']\n"
     ]
    }
   ],
   "source": [
    "sorted_names=sorted(LastName)\n",
    "print(sorted_names)"
   ]
  },
  {
   "cell_type": "code",
   "execution_count": 103,
   "metadata": {},
   "outputs": [],
   "source": [
    "import statistics"
   ]
  },
  {
   "cell_type": "code",
   "execution_count": 104,
   "metadata": {},
   "outputs": [
    {
     "name": "stdout",
     "output_type": "stream",
     "text": [
      "54.68181818181818\n",
      "69.04545454545455\n"
     ]
    }
   ],
   "source": [
    "mean_inaug_age=statistics.mean(InaugarationAge)\n",
    "mean_death_age=statistics.mean(DeathAge)\n",
    "print(mean_inaug_age)\n",
    "print(mean_death_age)"
   ]
  },
  {
   "cell_type": "code",
   "execution_count": 111,
   "metadata": {},
   "outputs": [],
   "source": [
    "from datetime import datetime\n",
    "from dateutil import relativedelta"
   ]
  },
  {
   "cell_type": "code",
   "execution_count": 157,
   "metadata": {},
   "outputs": [],
   "source": [
    "def get_post_term(LastName):\n",
    "    \"\"\"shows the differance in years between the DeathAge of the president and the EndTerm of the president\"\"\"\n",
    "    difference = relativedelta.relativedelta(DeathAge-EndTerm, yr_p)\n",
    "    return years"
   ]
  },
  {
   "cell_type": "code",
   "execution_count": 116,
   "metadata": {},
   "outputs": [
    {
     "ename": "NameError",
     "evalue": "name 'Washington' is not defined",
     "output_type": "error",
     "traceback": [
      "\u001b[1;31m---------------------------------------------------------------------------\u001b[0m",
      "\u001b[1;31mNameError\u001b[0m                                 Traceback (most recent call last)",
      "\u001b[1;32m<ipython-input-116-973d03d29467>\u001b[0m in \u001b[0;36m<module>\u001b[1;34m\u001b[0m\n\u001b[1;32m----> 1\u001b[1;33m \u001b[0mget_post_term\u001b[0m\u001b[1;33m(\u001b[0m\u001b[0mWashington\u001b[0m \u001b[1;32min\u001b[0m \u001b[0mPresidents\u001b[0m\u001b[1;33m)\u001b[0m\u001b[1;33m\u001b[0m\u001b[1;33m\u001b[0m\u001b[0m\n\u001b[0m",
      "\u001b[1;31mNameError\u001b[0m: name 'Washington' is not defined"
     ]
    }
   ],
   "source": []
  },
  {
   "cell_type": "code",
   "execution_count": 134,
   "metadata": {},
   "outputs": [],
   "source": [
    "import pandas as pd\n",
    "import numpy as np\n",
    "import datetime"
   ]
  },
  {
   "cell_type": "code",
   "execution_count": 135,
   "metadata": {},
   "outputs": [
    {
     "ename": "NameError",
     "evalue": "name 'df' is not defined",
     "output_type": "error",
     "traceback": [
      "\u001b[1;31m---------------------------------------------------------------------------\u001b[0m",
      "\u001b[1;31mNameError\u001b[0m                                 Traceback (most recent call last)",
      "\u001b[1;32m<ipython-input-135-372cf1da9648>\u001b[0m in \u001b[0;36m<module>\u001b[1;34m\u001b[0m\n\u001b[1;32m----> 1\u001b[1;33m \u001b[0mdf\u001b[0m\u001b[1;33m[\u001b[0m\u001b[1;34m'year'\u001b[0m\u001b[1;33m]\u001b[0m \u001b[1;33m=\u001b[0m \u001b[0mpd\u001b[0m\u001b[1;33m.\u001b[0m\u001b[0mDatetimeIndex\u001b[0m\u001b[1;33m(\u001b[0m\u001b[0mdf\u001b[0m\u001b[1;33m[\u001b[0m\u001b[1;34m'EndTerm'\u001b[0m\u001b[1;33m]\u001b[0m\u001b[1;33m)\u001b[0m\u001b[1;33m.\u001b[0m\u001b[0myear\u001b[0m\u001b[1;33m\u001b[0m\u001b[1;33m\u001b[0m\u001b[0m\n\u001b[0m\u001b[0;32m      2\u001b[0m \u001b[0mdf\u001b[0m\u001b[1;33m.\u001b[0m\u001b[0mhead\u001b[0m\u001b[1;33m(\u001b[0m\u001b[1;33m)\u001b[0m\u001b[1;33m\u001b[0m\u001b[1;33m\u001b[0m\u001b[0m\n\u001b[0;32m      3\u001b[0m \u001b[1;33m\u001b[0m\u001b[0m\n\u001b[0;32m      4\u001b[0m \u001b[0mmean_EndTerm\u001b[0m\u001b[1;33m=\u001b[0m\u001b[0mstatistics\u001b[0m\u001b[1;33m.\u001b[0m\u001b[0mmean\u001b[0m\u001b[1;33m(\u001b[0m\u001b[0mEndTerm\u001b[0m\u001b[1;33m)\u001b[0m\u001b[1;33m\u001b[0m\u001b[1;33m\u001b[0m\u001b[0m\n\u001b[0;32m      5\u001b[0m \u001b[0mmean_post_presidency\u001b[0m\u001b[1;33m=\u001b[0m\u001b[0mmean_death_age\u001b[0m\u001b[1;33m-\u001b[0m\u001b[0mmean_EndTerm\u001b[0m\u001b[1;33m\u001b[0m\u001b[1;33m\u001b[0m\u001b[0m\n",
      "\u001b[1;31mNameError\u001b[0m: name 'df' is not defined"
     ]
    }
   ],
   "source": [
    "df['year'] = pd.DatetimeIndex(df['EndTerm']).year\n",
    "df.head()\n",
    "\n",
    "mean_EndTerm=statistics.mean(EndTerm)\n",
    "mean_post_presidency=mean_death_age-mean_EndTerm\n",
    "print(mean_post_presidency)"
   ]
  },
  {
   "cell_type": "code",
   "execution_count": 139,
   "metadata": {},
   "outputs": [
    {
     "ename": "ModuleNotFoundError",
     "evalue": "No module named 'tabulate'",
     "output_type": "error",
     "traceback": [
      "\u001b[1;31m---------------------------------------------------------------------------\u001b[0m",
      "\u001b[1;31mModuleNotFoundError\u001b[0m                       Traceback (most recent call last)",
      "\u001b[1;32m<ipython-input-139-5df088049afd>\u001b[0m in \u001b[0;36m<module>\u001b[1;34m\u001b[0m\n\u001b[1;32m----> 1\u001b[1;33m \u001b[1;32mfrom\u001b[0m \u001b[0mtabulate\u001b[0m \u001b[1;32mimport\u001b[0m \u001b[0mtabulate\u001b[0m\u001b[1;33m\u001b[0m\u001b[1;33m\u001b[0m\u001b[0m\n\u001b[0m",
      "\u001b[1;31mModuleNotFoundError\u001b[0m: No module named 'tabulate'"
     ]
    }
   ],
   "source": []
  },
  {
   "cell_type": "code",
   "execution_count": 155,
   "metadata": {},
   "outputs": [
    {
     "ename": "SyntaxError",
     "evalue": "invalid syntax (<ipython-input-155-0f499431c3c7>, line 2)",
     "output_type": "error",
     "traceback": [
      "\u001b[1;36m  File \u001b[1;32m\"<ipython-input-155-0f499431c3c7>\"\u001b[1;36m, line \u001b[1;32m2\u001b[0m\n\u001b[1;33m    'Mean Age at Death':[mean_death_age]\u001b[0m\n\u001b[1;37m    ^\u001b[0m\n\u001b[1;31mSyntaxError\u001b[0m\u001b[1;31m:\u001b[0m invalid syntax\n"
     ]
    }
   ],
   "source": [
    "data = {'Mean Age at Inaugaration':[mean_inaug_age]\n",
    "        'Mean Age at Death':[mean_death_age]\n",
    "        'Mean Number of Years after Presidency':[1]}\n",
    "\n",
    "df1=pd.DataFrame(data, columns=['Mean Age at Inaugaration','Mean Age at Death','Mean Number of Years after Presidency'])"
   ]
  },
  {
   "cell_type": "code",
   "execution_count": 145,
   "metadata": {},
   "outputs": [
    {
     "ename": "SyntaxError",
     "evalue": "invalid syntax (<ipython-input-145-7cee8934e3d6>, line 2)",
     "output_type": "error",
     "traceback": [
      "\u001b[1;36m  File \u001b[1;32m\"<ipython-input-145-7cee8934e3d6>\"\u001b[1;36m, line \u001b[1;32m2\u001b[0m\n\u001b[1;33m    return 'LastName': DeathAge\u001b[0m\n\u001b[1;37m                     ^\u001b[0m\n\u001b[1;31mSyntaxError\u001b[0m\u001b[1;31m:\u001b[0m invalid syntax\n"
     ]
    }
   ],
   "source": [
    "def convert_to_dict(LastName, DeathAge):\n",
    "    return 'LastName': DeathAge"
   ]
  },
  {
   "cell_type": "code",
   "execution_count": 148,
   "metadata": {},
   "outputs": [
    {
     "name": "stdout",
     "output_type": "stream",
     "text": [
      "[73, 80, 78, 79, 68, 71, 53, 65, 74, 64, 77, 56, 66, 63, 70, 49, 56, 71, 67, 71]\n"
     ]
    }
   ],
   "source": [
    "DeathAge=extract_column(presidents,8)\n",
    "n=0\n",
    "presidents = presidents[ : n ] + presidents[n+1 : ]\n",
    "print(DeathAge)"
   ]
  },
  {
   "cell_type": "code",
   "execution_count": 158,
   "metadata": {},
   "outputs": [
    {
     "name": "stdout",
     "output_type": "stream",
     "text": [
      "[49, 53, 56, 63, 64, 65, 66, 67, 68, 70, 71, 73, 74, 77, 78, 79, 80]\n"
     ]
    }
   ],
   "source": [
    "ages = [] \n",
    "for i in DeathAge: \n",
    "    if i not in ages: \n",
    "        ages.append(i)\n",
    "print(sorted(ages))"
   ]
  },
  {
   "cell_type": "code",
   "execution_count": null,
   "metadata": {},
   "outputs": [],
   "source": []
  }
 ],
 "metadata": {
  "kernelspec": {
   "display_name": "Python 3",
   "language": "python",
   "name": "python3"
  },
  "language_info": {
   "codemirror_mode": {
    "name": "ipython",
    "version": 3
   },
   "file_extension": ".py",
   "mimetype": "text/x-python",
   "name": "python",
   "nbconvert_exporter": "python",
   "pygments_lexer": "ipython3",
   "version": "3.8.3"
  }
 },
 "nbformat": 4,
 "nbformat_minor": 4
}
